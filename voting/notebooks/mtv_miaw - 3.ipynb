{
 "cells": [
  {
   "cell_type": "code",
   "execution_count": null,
   "metadata": {},
   "outputs": [],
   "source": [
    "from selenium import webdriver\n",
    "from selenium.webdriver.chrome.service import Service\n",
    "from selenium.webdriver.common.by import By\n",
    "from webdriver_manager.chrome import ChromeDriverManager\n",
    "import os\n",
    "import time"
   ]
  },
  {
   "cell_type": "code",
   "execution_count": null,
   "metadata": {},
   "outputs": [],
   "source": [
    "def init_driver(silent=False): #silent abre sem interface visual\n",
    "    options = webdriver.ChromeOptions()\n",
    "    \n",
    "    if silent:\n",
    "        options.add_argument(\"headless\")\n",
    "\n",
    "    try:\n",
    "        driver = webdriver.Chrome(service=Service(ChromeDriverManager().install()), options=options)\n",
    "    except:\n",
    "        driver = webdriver.Chrome(ChromeDriverManager().install(), options=options)\n",
    "\n",
    "    return driver"
   ]
  },
  {
   "cell_type": "code",
   "execution_count": null,
   "metadata": {},
   "outputs": [],
   "source": [
    "def votation(driver, link, person_xpath, vote_counter):\n",
    "\t# vote_count = random.randint(10,30)\n",
    "\tvote_count = 30\n",
    "\t\n",
    "\tdriver.get(link)\n",
    "\ttime.sleep(12) # x seconds\n",
    "\tfor _ in range(vote_count):\n",
    "\t\t# time.sleep(2) # x seconds\n",
    "\t\t\n",
    "\t\tfor _ in range(10):\n",
    "\t\t\ttry:\n",
    "\t\t\t\tsend_button = driver.find_element(by=By.XPATH, value=person_xpath)\n",
    "\t\t\t\tsend_button.click()\n",
    "\t\t\t\tvote_counter[0] += 1\n",
    "\t\t\texcept:\n",
    "\t\t\t\tpass\n",
    "\t\t\ttime.sleep(0.1) # x seconds\n",
    "\t\t\n",
    "\t\ttime.sleep(11) # x seconds\n",
    "\t\tconf_button = driver.find_element(by=By.XPATH, value='/html/body/div[4]/div/div/div[2]/div[3]/div/div/div/div/div/div[2]/div[2]/div[2]/div/div[3]/div/div')\n",
    "\t\tconf_button.click()\n",
    "\t\n",
    "\t# print(\"Done!\")"
   ]
  },
  {
   "cell_type": "code",
   "execution_count": null,
   "metadata": {},
   "outputs": [],
   "source": [
    "if __name__ == \"__main__\":\n",
    "    QUIET=True\n",
    "\n",
    "    # arquivo de LOG\n",
    "    FILEPATH = os.path.join(os.getcwd(), 'LOGS_miaw')\n",
    "    if not os.path.exists(FILEPATH):\n",
    "        os.mkdir(FILEPATH)\n",
    "    PROGNAME = 'mtv_miaw-3'\n",
    "    FILENAME = os.path.join(FILEPATH, f'{PROGNAME}.txt')\n",
    "\n",
    "    vote_counter = [0]\n",
    "\n",
    "    link = 'https://miaw.mtv.com.br/vote/streamer-br'\n",
    "    person_xpath = '/html/body/div[4]/div/div/div[2]/div[3]/div/div/div/div/div/div[2]/div[2]/div[1]/div[1]/div/div[2]/div[1]/div[33]/div/div/div[3]/div/div[5]/div/button' # samira\n",
    "\n",
    "    driver = init_driver(silent=QUIET)\n",
    "    while True:\n",
    "        file = open(FILENAME, 'a', encoding='utf-8')\n",
    "\n",
    "\n",
    "        try:\n",
    "            votation(driver, link, person_xpath, vote_counter)\n",
    "\n",
    "            text = f'NOTE: {vote_counter[0]} votes submitted so far.\\n'\n",
    "            print(text)\n",
    "            file.write(text)\n",
    "        except:\n",
    "            text = f'ERROR: Quiting and restarting driver... The last vote_counter was {vote_counter[0]}\\n'\n",
    "            print(text)\n",
    "            file.write(text)\n",
    "\n",
    "            time.sleep(60) # x seconds\n",
    "            driver.quit()\n",
    "            driver = init_driver(silent=QUIET)\n",
    "            # driver.refresh()\n",
    "\n",
    "        try:\n",
    "            driver.refresh()\n",
    "            file.close()\n",
    "        except:\n",
    "            pass"
   ]
  }
 ],
 "metadata": {
  "kernelspec": {
   "display_name": "Python 3.9.7 ('base')",
   "language": "python",
   "name": "python3"
  },
  "language_info": {
   "codemirror_mode": {
    "name": "ipython",
    "version": 3
   },
   "file_extension": ".py",
   "mimetype": "text/x-python",
   "name": "python",
   "nbconvert_exporter": "python",
   "pygments_lexer": "ipython3",
   "version": "3.9.7"
  },
  "orig_nbformat": 4,
  "vscode": {
   "interpreter": {
    "hash": "ad2bdc8ecc057115af97d19610ffacc2b4e99fae6737bb82f5d7fb13d2f2c186"
   }
  }
 },
 "nbformat": 4,
 "nbformat_minor": 2
}
